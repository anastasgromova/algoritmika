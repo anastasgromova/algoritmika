{
 "cells": [
  {
   "cell_type": "code",
   "execution_count": 6,
   "metadata": {
    "collapsed": true
   },
   "outputs": [],
   "source": [
    "import pandas as pd\n",
    "import datetime\n"
   ]
  },
  {
   "cell_type": "code",
   "execution_count": 7,
   "outputs": [],
   "source": [
    "df = pd.read_csv('data/data.csv', names=[\"student_id\", \"age\", \"created\", \"group_id\", \"recorded_date\", \"teacher_name\", \"planned_lesson_count\", \"passed_lessons\", \"group_start_date\", \"last_visit_date\", \"attendance\", \"expelled_date\", \"course_type\"], skiprows=1)"
   ],
   "metadata": {
    "collapsed": false,
    "pycharm": {
     "name": "#%%\n"
    }
   }
  },
  {
   "cell_type": "code",
   "execution_count": 8,
   "outputs": [],
   "source": [
    "def to_date(date_text):\n",
    "    if isinstance(date_text, float):\n",
    "        return None\n",
    "    try:\n",
    "        date = datetime.datetime.strptime(date_text, '%d/%m/%y')\n",
    "        return date\n",
    "    except ValueError:\n",
    "        try:\n",
    "            date = datetime.datetime.strptime(date_text, '%d/%m/%Y')\n",
    "            return date\n",
    "        except ValueError:\n",
    "            return None"
   ],
   "metadata": {
    "collapsed": false,
    "pycharm": {
     "name": "#%%\n"
    }
   }
  },
  {
   "cell_type": "code",
   "execution_count": 9,
   "outputs": [],
   "source": [
    "df['created'] = df['created'].apply(lambda x: to_date(x))\n",
    "df['recorded_date'] = df['recorded_date'].apply(lambda x: to_date(x))\n",
    "df['group_start_date'] = df['group_start_date'].apply(lambda x: to_date(x))\n",
    "df['last_visit_date'] = df['last_visit_date'].apply(lambda x: to_date(x))\n",
    "df['expelled_date'] = df['expelled_date'].apply(lambda x: to_date(x))"
   ],
   "metadata": {
    "collapsed": false,
    "pycharm": {
     "name": "#%%\n"
    }
   }
  },
  {
   "cell_type": "code",
   "execution_count": 10,
   "outputs": [],
   "source": [
    "df = df.dropna(subset=['recorded_date'])"
   ],
   "metadata": {
    "collapsed": false,
    "pycharm": {
     "name": "#%%\n"
    }
   }
  },
  {
   "cell_type": "code",
   "execution_count": 11,
   "outputs": [],
   "source": [
    "df['age'] = df['age'].fillna(df['age'].mean())"
   ],
   "metadata": {
    "collapsed": false,
    "pycharm": {
     "name": "#%%\n"
    }
   }
  },
  {
   "cell_type": "code",
   "execution_count": 12,
   "outputs": [
    {
     "data": {
      "text/plain": "   student_id       date course_type attendance_type\n0      217013 2019-03-25        8-12               0\n1      217013 2019-04-01        8-12               1\n2      217013 2019-04-08        8-12               1\n3      217013 2019-04-15        8-12               1\n4      216066 2019-03-25        8-12               0\n5      216052 2019-03-25        8-12               1\n6      216052 2019-04-01        8-12               1\n7      216052 2019-04-08        8-12               1\n8      216044 2019-03-25        8-12               1\n9      216044 2019-04-01        8-12               1\n10     216044 2019-04-08        8-12               1\n11     216044 2019-04-15        8-12               1\n12     214869 2019-03-25        8-12               1\n13     214869 2019-04-01        8-12               1",
      "text/html": "<div>\n<style scoped>\n    .dataframe tbody tr th:only-of-type {\n        vertical-align: middle;\n    }\n\n    .dataframe tbody tr th {\n        vertical-align: top;\n    }\n\n    .dataframe thead th {\n        text-align: right;\n    }\n</style>\n<table border=\"1\" class=\"dataframe\">\n  <thead>\n    <tr style=\"text-align: right;\">\n      <th></th>\n      <th>student_id</th>\n      <th>date</th>\n      <th>course_type</th>\n      <th>attendance_type</th>\n    </tr>\n  </thead>\n  <tbody>\n    <tr>\n      <th>0</th>\n      <td>217013</td>\n      <td>2019-03-25</td>\n      <td>8-12</td>\n      <td>0</td>\n    </tr>\n    <tr>\n      <th>1</th>\n      <td>217013</td>\n      <td>2019-04-01</td>\n      <td>8-12</td>\n      <td>1</td>\n    </tr>\n    <tr>\n      <th>2</th>\n      <td>217013</td>\n      <td>2019-04-08</td>\n      <td>8-12</td>\n      <td>1</td>\n    </tr>\n    <tr>\n      <th>3</th>\n      <td>217013</td>\n      <td>2019-04-15</td>\n      <td>8-12</td>\n      <td>1</td>\n    </tr>\n    <tr>\n      <th>4</th>\n      <td>216066</td>\n      <td>2019-03-25</td>\n      <td>8-12</td>\n      <td>0</td>\n    </tr>\n    <tr>\n      <th>5</th>\n      <td>216052</td>\n      <td>2019-03-25</td>\n      <td>8-12</td>\n      <td>1</td>\n    </tr>\n    <tr>\n      <th>6</th>\n      <td>216052</td>\n      <td>2019-04-01</td>\n      <td>8-12</td>\n      <td>1</td>\n    </tr>\n    <tr>\n      <th>7</th>\n      <td>216052</td>\n      <td>2019-04-08</td>\n      <td>8-12</td>\n      <td>1</td>\n    </tr>\n    <tr>\n      <th>8</th>\n      <td>216044</td>\n      <td>2019-03-25</td>\n      <td>8-12</td>\n      <td>1</td>\n    </tr>\n    <tr>\n      <th>9</th>\n      <td>216044</td>\n      <td>2019-04-01</td>\n      <td>8-12</td>\n      <td>1</td>\n    </tr>\n    <tr>\n      <th>10</th>\n      <td>216044</td>\n      <td>2019-04-08</td>\n      <td>8-12</td>\n      <td>1</td>\n    </tr>\n    <tr>\n      <th>11</th>\n      <td>216044</td>\n      <td>2019-04-15</td>\n      <td>8-12</td>\n      <td>1</td>\n    </tr>\n    <tr>\n      <th>12</th>\n      <td>214869</td>\n      <td>2019-03-25</td>\n      <td>8-12</td>\n      <td>1</td>\n    </tr>\n    <tr>\n      <th>13</th>\n      <td>214869</td>\n      <td>2019-04-01</td>\n      <td>8-12</td>\n      <td>1</td>\n    </tr>\n  </tbody>\n</table>\n</div>"
     },
     "execution_count": 12,
     "metadata": {},
     "output_type": "execute_result"
    }
   ],
   "source": [
    "lessons = pd.DataFrame(columns=['student_id', 'date', 'course_type', 'attendance_type'])\n",
    "\n",
    "for row in df.head().itertuples():\n",
    "\n",
    "    arr = row.attendance.split(',')\n",
    "\n",
    "    for i in range(len(arr)):\n",
    "        if i == 0:\n",
    "            lessons = lessons.append({'student_id': row.student_id,\n",
    "                                      'date': row.group_start_date,\n",
    "                                      'course_type': row.course_type,\n",
    "                                      'attendance_type': arr[i]\n",
    "                                      }, ignore_index=True)\n",
    "        else:\n",
    "            date = row.group_start_date + datetime.timedelta(weeks=i)\n",
    "            if date <= row.last_visit_date:\n",
    "                lessons = lessons.append({'student_id': row.student_id,\n",
    "                                      'date': date,\n",
    "                                      'course_type': row.course_type,\n",
    "                                      'attendance_type': arr[i]\n",
    "                                      }, ignore_index=True)\n",
    "            else:\n",
    "                break\n",
    "\n",
    "lessons\n"
   ],
   "metadata": {
    "collapsed": false,
    "pycharm": {
     "name": "#%%\n"
    }
   }
  }
 ],
 "metadata": {
  "kernelspec": {
   "display_name": "Python 3",
   "language": "python",
   "name": "python3"
  },
  "language_info": {
   "codemirror_mode": {
    "name": "ipython",
    "version": 2
   },
   "file_extension": ".py",
   "mimetype": "text/x-python",
   "name": "python",
   "nbconvert_exporter": "python",
   "pygments_lexer": "ipython2",
   "version": "2.7.6"
  }
 },
 "nbformat": 4,
 "nbformat_minor": 0
}